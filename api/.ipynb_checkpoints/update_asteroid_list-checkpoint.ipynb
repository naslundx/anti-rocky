{
 "cells": [
  {
   "cell_type": "code",
   "execution_count": 4,
   "id": "40c2303b-2db4-447b-9d40-9dcef3be95b8",
   "metadata": {},
   "outputs": [],
   "source": [
    "from clients.neo import NeoClient\n",
    "import os"
   ]
  },
  {
   "cell_type": "code",
   "execution_count": 6,
   "id": "9e10a9db-7e4d-4d1f-8a37-36523ae3252f",
   "metadata": {},
   "outputs": [
    {
     "name": "stderr",
     "output_type": "stream",
     "text": [
      "WARNING:root:NeoClient requires a valid API key\n"
     ]
    }
   ],
   "source": [
    "neo_api_key = os.environ.get(\"neo_api_key\", None)\n",
    "client = NeoClient(neo_api_key)"
   ]
  },
  {
   "cell_type": "code",
   "execution_count": null,
   "id": "f4e59e3f-eba9-4ff9-900c-5470021c6dfb",
   "metadata": {},
   "outputs": [],
   "source": []
  }
 ],
 "metadata": {
  "kernelspec": {
   "display_name": "Python 3 (ipykernel)",
   "language": "python",
   "name": "python3"
  },
  "language_info": {
   "codemirror_mode": {
    "name": "ipython",
    "version": 3
   },
   "file_extension": ".py",
   "mimetype": "text/x-python",
   "name": "python",
   "nbconvert_exporter": "python",
   "pygments_lexer": "ipython3",
   "version": "3.12.10"
  }
 },
 "nbformat": 4,
 "nbformat_minor": 5
}
